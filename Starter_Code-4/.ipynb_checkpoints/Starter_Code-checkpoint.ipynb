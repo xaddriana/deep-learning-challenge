{
 "cells": [
  {
   "cell_type": "markdown",
   "metadata": {},
   "source": [
    "## Preprocessing"
   ]
  },
  {
   "cell_type": "code",
   "execution_count": 1,
   "metadata": {},
   "outputs": [
    {
     "data": {
      "text/html": [
       "<div>\n",
       "<style scoped>\n",
       "    .dataframe tbody tr th:only-of-type {\n",
       "        vertical-align: middle;\n",
       "    }\n",
       "\n",
       "    .dataframe tbody tr th {\n",
       "        vertical-align: top;\n",
       "    }\n",
       "\n",
       "    .dataframe thead th {\n",
       "        text-align: right;\n",
       "    }\n",
       "</style>\n",
       "<table border=\"1\" class=\"dataframe\">\n",
       "  <thead>\n",
       "    <tr style=\"text-align: right;\">\n",
       "      <th></th>\n",
       "      <th>EIN</th>\n",
       "      <th>NAME</th>\n",
       "      <th>APPLICATION_TYPE</th>\n",
       "      <th>AFFILIATION</th>\n",
       "      <th>CLASSIFICATION</th>\n",
       "      <th>USE_CASE</th>\n",
       "      <th>ORGANIZATION</th>\n",
       "      <th>STATUS</th>\n",
       "      <th>INCOME_AMT</th>\n",
       "      <th>SPECIAL_CONSIDERATIONS</th>\n",
       "      <th>ASK_AMT</th>\n",
       "      <th>IS_SUCCESSFUL</th>\n",
       "    </tr>\n",
       "  </thead>\n",
       "  <tbody>\n",
       "    <tr>\n",
       "      <th>0</th>\n",
       "      <td>10520599</td>\n",
       "      <td>BLUE KNIGHTS MOTORCYCLE CLUB</td>\n",
       "      <td>T10</td>\n",
       "      <td>Independent</td>\n",
       "      <td>C1000</td>\n",
       "      <td>ProductDev</td>\n",
       "      <td>Association</td>\n",
       "      <td>1</td>\n",
       "      <td>0</td>\n",
       "      <td>N</td>\n",
       "      <td>5000</td>\n",
       "      <td>1</td>\n",
       "    </tr>\n",
       "    <tr>\n",
       "      <th>1</th>\n",
       "      <td>10531628</td>\n",
       "      <td>AMERICAN CHESAPEAKE CLUB CHARITABLE TR</td>\n",
       "      <td>T3</td>\n",
       "      <td>Independent</td>\n",
       "      <td>C2000</td>\n",
       "      <td>Preservation</td>\n",
       "      <td>Co-operative</td>\n",
       "      <td>1</td>\n",
       "      <td>1-9999</td>\n",
       "      <td>N</td>\n",
       "      <td>108590</td>\n",
       "      <td>1</td>\n",
       "    </tr>\n",
       "    <tr>\n",
       "      <th>2</th>\n",
       "      <td>10547893</td>\n",
       "      <td>ST CLOUD PROFESSIONAL FIREFIGHTERS</td>\n",
       "      <td>T5</td>\n",
       "      <td>CompanySponsored</td>\n",
       "      <td>C3000</td>\n",
       "      <td>ProductDev</td>\n",
       "      <td>Association</td>\n",
       "      <td>1</td>\n",
       "      <td>0</td>\n",
       "      <td>N</td>\n",
       "      <td>5000</td>\n",
       "      <td>0</td>\n",
       "    </tr>\n",
       "    <tr>\n",
       "      <th>3</th>\n",
       "      <td>10553066</td>\n",
       "      <td>SOUTHSIDE ATHLETIC ASSOCIATION</td>\n",
       "      <td>T3</td>\n",
       "      <td>CompanySponsored</td>\n",
       "      <td>C2000</td>\n",
       "      <td>Preservation</td>\n",
       "      <td>Trust</td>\n",
       "      <td>1</td>\n",
       "      <td>10000-24999</td>\n",
       "      <td>N</td>\n",
       "      <td>6692</td>\n",
       "      <td>1</td>\n",
       "    </tr>\n",
       "    <tr>\n",
       "      <th>4</th>\n",
       "      <td>10556103</td>\n",
       "      <td>GENETIC RESEARCH INSTITUTE OF THE DESERT</td>\n",
       "      <td>T3</td>\n",
       "      <td>Independent</td>\n",
       "      <td>C1000</td>\n",
       "      <td>Heathcare</td>\n",
       "      <td>Trust</td>\n",
       "      <td>1</td>\n",
       "      <td>100000-499999</td>\n",
       "      <td>N</td>\n",
       "      <td>142590</td>\n",
       "      <td>1</td>\n",
       "    </tr>\n",
       "  </tbody>\n",
       "</table>\n",
       "</div>"
      ],
      "text/plain": [
       "        EIN                                      NAME APPLICATION_TYPE  \\\n",
       "0  10520599              BLUE KNIGHTS MOTORCYCLE CLUB              T10   \n",
       "1  10531628    AMERICAN CHESAPEAKE CLUB CHARITABLE TR               T3   \n",
       "2  10547893        ST CLOUD PROFESSIONAL FIREFIGHTERS               T5   \n",
       "3  10553066            SOUTHSIDE ATHLETIC ASSOCIATION               T3   \n",
       "4  10556103  GENETIC RESEARCH INSTITUTE OF THE DESERT               T3   \n",
       "\n",
       "        AFFILIATION CLASSIFICATION      USE_CASE  ORGANIZATION  STATUS  \\\n",
       "0       Independent          C1000    ProductDev   Association       1   \n",
       "1       Independent          C2000  Preservation  Co-operative       1   \n",
       "2  CompanySponsored          C3000    ProductDev   Association       1   \n",
       "3  CompanySponsored          C2000  Preservation         Trust       1   \n",
       "4       Independent          C1000     Heathcare         Trust       1   \n",
       "\n",
       "      INCOME_AMT SPECIAL_CONSIDERATIONS  ASK_AMT  IS_SUCCESSFUL  \n",
       "0              0                      N     5000              1  \n",
       "1         1-9999                      N   108590              1  \n",
       "2              0                      N     5000              0  \n",
       "3    10000-24999                      N     6692              1  \n",
       "4  100000-499999                      N   142590              1  "
      ]
     },
     "execution_count": 1,
     "metadata": {},
     "output_type": "execute_result"
    }
   ],
   "source": [
    "# Import our dependencies\n",
    "from sklearn.model_selection import train_test_split\n",
    "from sklearn.preprocessing import StandardScaler\n",
    "import pandas as pd\n",
    "import tensorflow as tf\n",
    "\n",
    "#  Import and read the charity_data.csv.\n",
    "import pandas as pd \n",
    "application_df = pd.read_csv(\"https://static.bc-edx.com/data/dl-1-2/m21/lms/starter/charity_data.csv\")\n",
    "application_df.head()"
   ]
  },
  {
   "cell_type": "code",
   "execution_count": 2,
   "metadata": {},
   "outputs": [],
   "source": [
    "# Drop the non-beneficial ID columns, 'EIN' and 'NAME'.\n",
    "application_df = application_df.drop(columns=['EIN', 'NAME'])"
   ]
  },
  {
   "cell_type": "code",
   "execution_count": 3,
   "metadata": {},
   "outputs": [
    {
     "data": {
      "text/plain": [
       "APPLICATION_TYPE            17\n",
       "AFFILIATION                  6\n",
       "CLASSIFICATION              71\n",
       "USE_CASE                     5\n",
       "ORGANIZATION                 4\n",
       "STATUS                       2\n",
       "INCOME_AMT                   9\n",
       "SPECIAL_CONSIDERATIONS       2\n",
       "ASK_AMT                   8747\n",
       "IS_SUCCESSFUL                2\n",
       "dtype: int64"
      ]
     },
     "execution_count": 3,
     "metadata": {},
     "output_type": "execute_result"
    }
   ],
   "source": [
    "# Determine the number of unique values in each column.\n",
    "unique_values = application_df.nunique()\n",
    "unique_values"
   ]
  },
  {
   "cell_type": "code",
   "execution_count": 4,
   "metadata": {},
   "outputs": [
    {
     "data": {
      "text/plain": [
       "APPLICATION_TYPE\n",
       "T3     27037\n",
       "T4      1542\n",
       "T6      1216\n",
       "T5      1173\n",
       "T19     1065\n",
       "T8       737\n",
       "T7       725\n",
       "T10      528\n",
       "T9       156\n",
       "T13       66\n",
       "T12       27\n",
       "T2        16\n",
       "T25        3\n",
       "T14        3\n",
       "T29        2\n",
       "T15        2\n",
       "T17        1\n",
       "Name: count, dtype: int64"
      ]
     },
     "execution_count": 4,
     "metadata": {},
     "output_type": "execute_result"
    }
   ],
   "source": [
    "# Look at APPLICATION_TYPE value counts for binning\n",
    "app_type_counts = application_df['APPLICATION_TYPE'].value_counts()\n",
    "app_type_counts"
   ]
  },
  {
   "cell_type": "code",
   "execution_count": 5,
   "metadata": {},
   "outputs": [
    {
     "data": {
      "text/plain": [
       "APPLICATION_TYPE\n",
       "T3       27037\n",
       "T4        1542\n",
       "T6        1216\n",
       "T5        1173\n",
       "T19       1065\n",
       "T8         737\n",
       "T7         725\n",
       "T10        528\n",
       "Other      276\n",
       "Name: count, dtype: int64"
      ]
     },
     "execution_count": 5,
     "metadata": {},
     "output_type": "execute_result"
    }
   ],
   "source": [
    "# Choose a cutoff value and create a list of application types to be replaced\n",
    "# use the variable name `application_types_to_replace`\n",
    "cutoff = 500\n",
    "application_types_to_replace = list(app_type_counts[app_type_counts < cutoff].index)\n",
    "\n",
    "# Replace in dataframe\n",
    "for app in application_types_to_replace:\n",
    "    application_df['APPLICATION_TYPE'] = application_df['APPLICATION_TYPE'].replace(app,\"Other\")\n",
    "\n",
    "# Check to make sure binning was successful\n",
    "application_df['APPLICATION_TYPE'].value_counts()"
   ]
  },
  {
   "cell_type": "code",
   "execution_count": 6,
   "metadata": {},
   "outputs": [
    {
     "data": {
      "text/plain": [
       "CLASSIFICATION\n",
       "C1000    17326\n",
       "C2000     6074\n",
       "C1200     4837\n",
       "C3000     1918\n",
       "C2100     1883\n",
       "         ...  \n",
       "C4120        1\n",
       "C8210        1\n",
       "C2561        1\n",
       "C4500        1\n",
       "C2150        1\n",
       "Name: count, Length: 71, dtype: int64"
      ]
     },
     "execution_count": 6,
     "metadata": {},
     "output_type": "execute_result"
    }
   ],
   "source": [
    "# Look at CLASSIFICATION value counts for binning\n",
    "classification_counts = application_df['CLASSIFICATION'].value_counts()\n",
    "classification_counts"
   ]
  },
  {
   "cell_type": "code",
   "execution_count": 7,
   "metadata": {},
   "outputs": [
    {
     "data": {
      "text/plain": [
       "CLASSIFICATION\n",
       "C1000    17326\n",
       "C2000     6074\n",
       "C1200     4837\n",
       "C3000     1918\n",
       "C2100     1883\n",
       "C7000      777\n",
       "C1700      287\n",
       "C4000      194\n",
       "C5000      116\n",
       "C1270      114\n",
       "C2700      104\n",
       "C2800       95\n",
       "C7100       75\n",
       "C1300       58\n",
       "C1280       50\n",
       "C1230       36\n",
       "C1400       34\n",
       "C7200       32\n",
       "C2300       32\n",
       "C1240       30\n",
       "C8000       20\n",
       "C7120       18\n",
       "C1500       16\n",
       "C1800       15\n",
       "C6000       15\n",
       "C1250       14\n",
       "C8200       11\n",
       "C1238       10\n",
       "C1278       10\n",
       "C1235        9\n",
       "C1237        9\n",
       "C7210        7\n",
       "C2400        6\n",
       "C1720        6\n",
       "C4100        6\n",
       "C1257        5\n",
       "C1600        5\n",
       "C1260        3\n",
       "C2710        3\n",
       "C0           3\n",
       "C3200        2\n",
       "C1234        2\n",
       "C1246        2\n",
       "C1267        2\n",
       "C1256        2\n",
       "Name: count, dtype: int64"
      ]
     },
     "execution_count": 7,
     "metadata": {},
     "output_type": "execute_result"
    }
   ],
   "source": [
    "# You may find it helpful to look at CLASSIFICATION value counts >1\n",
    "classification_greater = classification_counts[classification_counts > 1]\n",
    "classification_greater"
   ]
  },
  {
   "cell_type": "code",
   "execution_count": 8,
   "metadata": {},
   "outputs": [
    {
     "data": {
      "text/plain": [
       "CLASSIFICATION\n",
       "C1000    17326\n",
       "C2000     6074\n",
       "C1200     4837\n",
       "Other     2261\n",
       "C3000     1918\n",
       "C2100     1883\n",
       "Name: count, dtype: int64"
      ]
     },
     "execution_count": 8,
     "metadata": {},
     "output_type": "execute_result"
    }
   ],
   "source": [
    "# Choose a cutoff value and create a list of classifications to be replaced\n",
    "# use the variable name `classifications_to_replace`\n",
    "cutoff_cls = 1000\n",
    "classifications_to_replace = list(classification_counts[classification_counts < cutoff_cls].index)\n",
    "\n",
    "# Replace in dataframe\n",
    "for cls in classifications_to_replace:\n",
    "    application_df['CLASSIFICATION'] = application_df['CLASSIFICATION'].replace(cls,\"Other\")\n",
    "    \n",
    "# Check to make sure binning was successful\n",
    "application_df['CLASSIFICATION'].value_counts()\n"
   ]
  },
  {
   "cell_type": "code",
   "execution_count": 9,
   "metadata": {},
   "outputs": [],
   "source": [
    "# Convert categorical data to numeric with `pd.get_dummies`\n",
    "application_df = pd.get_dummies(application_df)"
   ]
  },
  {
   "cell_type": "code",
   "execution_count": 10,
   "metadata": {},
   "outputs": [],
   "source": [
    "# Split our preprocessed data into our features and target arrays\n",
    "X = application_df.drop(columns=['IS_SUCCESSFUL'])\n",
    "y = application_df['IS_SUCCESSFUL']\n",
    "\n",
    "# Split the preprocessed data into a training and testing dataset\n",
    "X_train, X_test, y_train, y_test = train_test_split(X, y, random_state=42, stratify=y)\n"
   ]
  },
  {
   "cell_type": "code",
   "execution_count": 11,
   "metadata": {},
   "outputs": [],
   "source": [
    "# Create a StandardScaler instances\n",
    "scaler = StandardScaler()\n",
    "\n",
    "# Fit the StandardScaler\n",
    "X_scaler = scaler.fit(X_train)\n",
    "\n",
    "# Scale the data\n",
    "X_train_scaled = X_scaler.transform(X_train)\n",
    "X_test_scaled = X_scaler.transform(X_test)"
   ]
  },
  {
   "cell_type": "markdown",
   "metadata": {},
   "source": [
    "## Compile, Train and Evaluate the Model"
   ]
  },
  {
   "cell_type": "code",
   "execution_count": 12,
   "metadata": {},
   "outputs": [
    {
     "name": "stdout",
     "output_type": "stream",
     "text": [
      "Model: \"sequential\"\n",
      "_________________________________________________________________\n",
      " Layer (type)                Output Shape              Param #   \n",
      "=================================================================\n",
      " dense (Dense)               (None, 80)                3520      \n",
      "                                                                 \n",
      " dense_1 (Dense)             (None, 30)                2430      \n",
      "                                                                 \n",
      " dense_2 (Dense)             (None, 1)                 31        \n",
      "                                                                 \n",
      "=================================================================\n",
      "Total params: 5981 (23.36 KB)\n",
      "Trainable params: 5981 (23.36 KB)\n",
      "Non-trainable params: 0 (0.00 Byte)\n",
      "_________________________________________________________________\n"
     ]
    }
   ],
   "source": [
    "# Define the model - deep neural net, i.e., the number of input features and hidden nodes for each layer.\n",
    "nn = tf.keras.models.Sequential()\n",
    "\n",
    "# First hidden layer\n",
    "nn.add(tf.keras.layers.Dense(units=80, activation='relu', input_dim=len(X_train.columns)))\n",
    "\n",
    "# Second hidden layer\n",
    "nn.add(tf.keras.layers.Dense(units=30, activation='relu'))\n",
    "\n",
    "# Output layer\n",
    "nn.add(tf.keras.layers.Dense(units=1, activation='sigmoid'))\n",
    "\n",
    "# Check the structure of the model\n",
    "nn.summary()"
   ]
  },
  {
   "cell_type": "code",
   "execution_count": 13,
   "metadata": {},
   "outputs": [],
   "source": [
    "# Compile the model\n",
    "nn.compile(loss='binary_crossentropy', optimizer='adam', metrics=['accuracy'])"
   ]
  },
  {
   "cell_type": "code",
   "execution_count": 14,
   "metadata": {},
   "outputs": [
    {
     "name": "stdout",
     "output_type": "stream",
     "text": [
      "Epoch 1/50\n",
      "804/804 [==============================] - 0s 424us/step - loss: 0.5729 - accuracy: 0.7199\n",
      "Epoch 2/50\n",
      "804/804 [==============================] - 0s 423us/step - loss: 0.5550 - accuracy: 0.7301\n",
      "Epoch 3/50\n",
      "804/804 [==============================] - 0s 452us/step - loss: 0.5517 - accuracy: 0.7328\n",
      "Epoch 4/50\n",
      "804/804 [==============================] - 0s 451us/step - loss: 0.5508 - accuracy: 0.7317\n",
      "Epoch 5/50\n",
      "804/804 [==============================] - 0s 442us/step - loss: 0.5490 - accuracy: 0.7323\n",
      "Epoch 6/50\n",
      "804/804 [==============================] - 0s 426us/step - loss: 0.5479 - accuracy: 0.7338\n",
      "Epoch 7/50\n",
      "804/804 [==============================] - 0s 418us/step - loss: 0.5479 - accuracy: 0.7332\n",
      "Epoch 8/50\n",
      "804/804 [==============================] - 0s 421us/step - loss: 0.5464 - accuracy: 0.7347\n",
      "Epoch 9/50\n",
      "804/804 [==============================] - 0s 417us/step - loss: 0.5457 - accuracy: 0.7348\n",
      "Epoch 10/50\n",
      "804/804 [==============================] - 0s 450us/step - loss: 0.5451 - accuracy: 0.7349\n",
      "Epoch 11/50\n",
      "804/804 [==============================] - 0s 454us/step - loss: 0.5450 - accuracy: 0.7357\n",
      "Epoch 12/50\n",
      "804/804 [==============================] - 0s 456us/step - loss: 0.5444 - accuracy: 0.7366\n",
      "Epoch 13/50\n",
      "804/804 [==============================] - 0s 448us/step - loss: 0.5442 - accuracy: 0.7371\n",
      "Epoch 14/50\n",
      "804/804 [==============================] - 0s 445us/step - loss: 0.5437 - accuracy: 0.7363\n",
      "Epoch 15/50\n",
      "804/804 [==============================] - 0s 441us/step - loss: 0.5438 - accuracy: 0.7362\n",
      "Epoch 16/50\n",
      "804/804 [==============================] - 0s 423us/step - loss: 0.5434 - accuracy: 0.7361\n",
      "Epoch 17/50\n",
      "804/804 [==============================] - 0s 423us/step - loss: 0.5427 - accuracy: 0.7367\n",
      "Epoch 18/50\n",
      "804/804 [==============================] - 0s 424us/step - loss: 0.5424 - accuracy: 0.7379\n",
      "Epoch 19/50\n",
      "804/804 [==============================] - 0s 426us/step - loss: 0.5420 - accuracy: 0.7371\n",
      "Epoch 20/50\n",
      "804/804 [==============================] - 0s 424us/step - loss: 0.5421 - accuracy: 0.7369\n",
      "Epoch 21/50\n",
      "804/804 [==============================] - 0s 423us/step - loss: 0.5418 - accuracy: 0.7381\n",
      "Epoch 22/50\n",
      "804/804 [==============================] - 0s 425us/step - loss: 0.5417 - accuracy: 0.7382\n",
      "Epoch 23/50\n",
      "804/804 [==============================] - 0s 427us/step - loss: 0.5416 - accuracy: 0.7383\n",
      "Epoch 24/50\n",
      "804/804 [==============================] - 0s 425us/step - loss: 0.5412 - accuracy: 0.7390\n",
      "Epoch 25/50\n",
      "804/804 [==============================] - 0s 423us/step - loss: 0.5405 - accuracy: 0.7388\n",
      "Epoch 26/50\n",
      "804/804 [==============================] - 0s 426us/step - loss: 0.5405 - accuracy: 0.7380\n",
      "Epoch 27/50\n",
      "804/804 [==============================] - 0s 422us/step - loss: 0.5404 - accuracy: 0.7381\n",
      "Epoch 28/50\n",
      "804/804 [==============================] - 0s 427us/step - loss: 0.5404 - accuracy: 0.7395\n",
      "Epoch 29/50\n",
      "804/804 [==============================] - 0s 425us/step - loss: 0.5402 - accuracy: 0.7383\n",
      "Epoch 30/50\n",
      "804/804 [==============================] - 0s 463us/step - loss: 0.5401 - accuracy: 0.7388\n",
      "Epoch 31/50\n",
      "804/804 [==============================] - 0s 455us/step - loss: 0.5395 - accuracy: 0.7388\n",
      "Epoch 32/50\n",
      "804/804 [==============================] - 0s 456us/step - loss: 0.5395 - accuracy: 0.7390\n",
      "Epoch 33/50\n",
      "804/804 [==============================] - 0s 440us/step - loss: 0.5394 - accuracy: 0.7390\n",
      "Epoch 34/50\n",
      "804/804 [==============================] - 0s 427us/step - loss: 0.5396 - accuracy: 0.7397\n",
      "Epoch 35/50\n",
      "804/804 [==============================] - 0s 427us/step - loss: 0.5398 - accuracy: 0.7387\n",
      "Epoch 36/50\n",
      "804/804 [==============================] - 0s 432us/step - loss: 0.5393 - accuracy: 0.7402\n",
      "Epoch 37/50\n",
      "804/804 [==============================] - 0s 428us/step - loss: 0.5391 - accuracy: 0.7395\n",
      "Epoch 38/50\n",
      "804/804 [==============================] - 0s 428us/step - loss: 0.5389 - accuracy: 0.7392\n",
      "Epoch 39/50\n",
      "804/804 [==============================] - 0s 424us/step - loss: 0.5389 - accuracy: 0.7394\n",
      "Epoch 40/50\n",
      "804/804 [==============================] - 0s 429us/step - loss: 0.5388 - accuracy: 0.7388\n",
      "Epoch 41/50\n",
      "804/804 [==============================] - 0s 436us/step - loss: 0.5381 - accuracy: 0.7395\n",
      "Epoch 42/50\n",
      "804/804 [==============================] - 0s 449us/step - loss: 0.5382 - accuracy: 0.7391\n",
      "Epoch 43/50\n",
      "804/804 [==============================] - 0s 453us/step - loss: 0.5383 - accuracy: 0.7399\n",
      "Epoch 44/50\n",
      "804/804 [==============================] - 0s 440us/step - loss: 0.5381 - accuracy: 0.7404\n",
      "Epoch 45/50\n",
      "804/804 [==============================] - 0s 444us/step - loss: 0.5383 - accuracy: 0.7390\n",
      "Epoch 46/50\n",
      "804/804 [==============================] - 0s 443us/step - loss: 0.5381 - accuracy: 0.7398\n",
      "Epoch 47/50\n",
      "804/804 [==============================] - 0s 433us/step - loss: 0.5384 - accuracy: 0.7398\n",
      "Epoch 48/50\n",
      "804/804 [==============================] - 0s 431us/step - loss: 0.5375 - accuracy: 0.7406\n",
      "Epoch 49/50\n",
      "804/804 [==============================] - 0s 431us/step - loss: 0.5373 - accuracy: 0.7404\n",
      "Epoch 50/50\n",
      "804/804 [==============================] - 0s 428us/step - loss: 0.5377 - accuracy: 0.7395\n",
      "WARNING:tensorflow:`period` argument is deprecated. Please use `save_freq` to specify the frequency in number of batches seen.\n"
     ]
    }
   ],
   "source": [
    "# Train the model\n",
    "nn.fit(X_train_scaled, y_train, epochs=50)\n",
    "callback = tf.keras.callbacks.ModelCheckpoint('AlphabetSoupCharity.h5',\n",
    "                                              save_weights_only=True,\n",
    "                                              save_freq='epoch', period=5)"
   ]
  },
  {
   "cell_type": "code",
   "execution_count": 15,
   "metadata": {},
   "outputs": [
    {
     "name": "stdout",
     "output_type": "stream",
     "text": [
      "268/268 - 0s - loss: 0.5588 - accuracy: 0.7258 - 130ms/epoch - 484us/step\n",
      "Loss: 0.5587625503540039, Accuracy: 0.7258309125900269\n"
     ]
    }
   ],
   "source": [
    "# Evaluate the model using the test data\n",
    "model_loss, model_accuracy = nn.evaluate(X_test_scaled,y_test,verbose=2)\n",
    "print(f\"Loss: {model_loss}, Accuracy: {model_accuracy}\")"
   ]
  },
  {
   "cell_type": "code",
   "execution_count": 16,
   "metadata": {},
   "outputs": [
    {
     "name": "stdout",
     "output_type": "stream",
     "text": [
      "INFO:tensorflow:Assets written to: AlphabetSoupCharity_model/assets\n"
     ]
    },
    {
     "name": "stderr",
     "output_type": "stream",
     "text": [
      "INFO:tensorflow:Assets written to: AlphabetSoupCharity_model/assets\n"
     ]
    }
   ],
   "source": [
    "# Export our model to HDF5 file\n",
    "nn.save(\"AlphabetSoupCharity_model\")\n"
   ]
  },
  {
   "cell_type": "code",
   "execution_count": 17,
   "metadata": {},
   "outputs": [],
   "source": [
    "# Initial data\n",
    "initial_model = tf.keras.models.load_model(\"AlphabetSoupCharity_model\")"
   ]
  },
  {
   "cell_type": "code",
   "execution_count": 18,
   "metadata": {},
   "outputs": [],
   "source": [
    "# Optimize the model architecture and hyperparameters\n",
    "optimized_model = tf.keras.models.Sequential()"
   ]
  },
  {
   "cell_type": "code",
   "execution_count": 19,
   "metadata": {},
   "outputs": [],
   "source": [
    "# Compile the optimized model\n",
    "optimized_model.compile(loss='binary_crossentropy', optimizer='adam', metrics=['accuracy'])"
   ]
  },
  {
   "cell_type": "code",
   "execution_count": 20,
   "metadata": {},
   "outputs": [
    {
     "name": "stdout",
     "output_type": "stream",
     "text": [
      "Epoch 1/20\n",
      "804/804 [==============================] - 0s 271us/step - loss: 7.2417 - accuracy: 1.1662e-04\n",
      "Epoch 2/20\n",
      "804/804 [==============================] - 0s 263us/step - loss: 7.2417 - accuracy: 1.1662e-04\n",
      "Epoch 3/20\n",
      "804/804 [==============================] - 0s 262us/step - loss: 7.2417 - accuracy: 1.1662e-04\n",
      "Epoch 4/20\n",
      "804/804 [==============================] - 0s 265us/step - loss: 7.2417 - accuracy: 1.1662e-04\n",
      "Epoch 5/20\n",
      "804/804 [==============================] - 0s 267us/step - loss: 7.2417 - accuracy: 1.1662e-04\n",
      "Epoch 6/20\n",
      "804/804 [==============================] - 0s 269us/step - loss: 7.2417 - accuracy: 1.1662e-04\n",
      "Epoch 7/20\n",
      "804/804 [==============================] - 0s 275us/step - loss: 7.2417 - accuracy: 1.1662e-04\n",
      "Epoch 8/20\n",
      "804/804 [==============================] - 0s 274us/step - loss: 7.2417 - accuracy: 1.1662e-04\n",
      "Epoch 9/20\n",
      "804/804 [==============================] - 0s 281us/step - loss: 7.2417 - accuracy: 1.1662e-04\n",
      "Epoch 10/20\n",
      "804/804 [==============================] - 0s 280us/step - loss: 7.2417 - accuracy: 1.1662e-04\n",
      "Epoch 11/20\n",
      "804/804 [==============================] - 0s 279us/step - loss: 7.2417 - accuracy: 1.1662e-04\n",
      "Epoch 12/20\n",
      "804/804 [==============================] - 0s 275us/step - loss: 7.2417 - accuracy: 1.1662e-04\n",
      "Epoch 13/20\n",
      "804/804 [==============================] - 0s 278us/step - loss: 7.2417 - accuracy: 1.1662e-04\n",
      "Epoch 14/20\n",
      "804/804 [==============================] - 0s 279us/step - loss: 7.2417 - accuracy: 1.1662e-04\n",
      "Epoch 15/20\n",
      "804/804 [==============================] - 0s 279us/step - loss: 7.2417 - accuracy: 1.1662e-04\n",
      "Epoch 16/20\n",
      "804/804 [==============================] - 0s 279us/step - loss: 7.2417 - accuracy: 1.1662e-04\n",
      "Epoch 17/20\n",
      "804/804 [==============================] - 0s 276us/step - loss: 7.2417 - accuracy: 1.1662e-04\n",
      "Epoch 18/20\n",
      "804/804 [==============================] - 0s 269us/step - loss: 7.2417 - accuracy: 1.1662e-04\n",
      "Epoch 19/20\n",
      "804/804 [==============================] - 0s 270us/step - loss: 7.2417 - accuracy: 1.1662e-04\n",
      "Epoch 20/20\n",
      "804/804 [==============================] - 0s 267us/step - loss: 7.2417 - accuracy: 1.1662e-04\n"
     ]
    },
    {
     "data": {
      "text/plain": [
       "<keras.src.callbacks.History at 0x29120fbd0>"
      ]
     },
     "execution_count": 20,
     "metadata": {},
     "output_type": "execute_result"
    }
   ],
   "source": [
    "# Scale the data\n",
    "X_train_scaled = X_scaler.transform(X_train)\n",
    "X_test_scaled = X_scaler.transform(X_test)\n",
    "\n",
    "# Train the optimized model\n",
    "optimized_model.fit(X_train_scaled, y_train, epochs=20, batch_size=32, verbose=1)"
   ]
  },
  {
   "cell_type": "code",
   "execution_count": 22,
   "metadata": {},
   "outputs": [
    {
     "name": "stdout",
     "output_type": "stream",
     "text": [
      "268/268 - 0s - loss: 7.2433 - accuracy: 0.0000e+00 - 87ms/epoch - 325us/step\n",
      "Optimized Model Loss: 7.2433247566223145, Accuracy: 0.0\n"
     ]
    }
   ],
   "source": [
    "# Evaluate the optimized model\n",
    "optimized_model_loss, optimized_model_accuracy = optimized_model.evaluate(X_test_scaled, y_test, verbose=2)\n",
    "print(f\"Optimized Model Loss: {optimized_model_loss}, Accuracy: {optimized_model_accuracy}\")\n"
   ]
  },
  {
   "cell_type": "code",
   "execution_count": 24,
   "metadata": {},
   "outputs": [],
   "source": [
    "# Save the optimized model\n",
    "nn.save(\"AlphabetSoupCharity_Optimized.h5\")"
   ]
  },
  {
   "cell_type": "code",
   "execution_count": null,
   "metadata": {},
   "outputs": [],
   "source": []
  }
 ],
 "metadata": {
  "kernelspec": {
   "display_name": "Python 3 (ipykernel)",
   "language": "python",
   "name": "python3"
  },
  "language_info": {
   "codemirror_mode": {
    "name": "ipython",
    "version": 3
   },
   "file_extension": ".py",
   "mimetype": "text/x-python",
   "name": "python",
   "nbconvert_exporter": "python",
   "pygments_lexer": "ipython3",
   "version": "3.11.4"
  },
  "vscode": {
   "interpreter": {
    "hash": "31f2aee4e71d21fbe5cf8b01ff0e069b9275f58929596ceb00d14d90e3e16cd6"
   }
  }
 },
 "nbformat": 4,
 "nbformat_minor": 4
}
